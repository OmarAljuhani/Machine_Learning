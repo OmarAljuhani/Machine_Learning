{
  "cells": [
    {
      "cell_type": "markdown",
      "source": [
        "**Numerical Data**"
      ],
      "metadata": {
        "id": "8lZv75qSa6-i"
      }
    },
    {
      "cell_type": "markdown",
      "source": [
        "If you have a small amount of data, predict the missing values using k-nearest neighbors (KNN)"
      ],
      "metadata": {
        "id": "wffv1RiBSLqu"
      }
    },
    {
      "cell_type": "code",
      "source": [],
      "metadata": {
        "id": "wDXbOGdWTqwQ"
      },
      "execution_count": null,
      "outputs": []
    },
    {
      "cell_type": "code",
      "source": [
        "# Load libraries\n",
        "import numpy as np\n",
        "from fancyimpute import KNN\n",
        "from sklearn.preprocessing import StandardScaler\n",
        "from sklearn.datasets import make_blobs\n",
        "\n",
        "# Make a simulated feature matrix\n",
        "features, _ = make_blobs(n_samples=1000, n_features=2, random_state=1)\n",
        "\n",
        "# Standardize the features\n",
        "scaler = StandardScaler()\n",
        "standardized_features = scaler.fit_transform(features)\n",
        "\n",
        "# Replace the first feature's first value with a missing value\n",
        "true_value = standardized_features[0, 0]\n",
        "standardized_features[0, 0] = np.nan\n",
        "\n",
        "# Predict the missing values in the feature matrix\n",
        "imputer = KNN(k=5, verbose=0)\n",
        "features_knn_imputed = imputer.fit_transform(standardized_features)\n",
        "\n",
        "# Compare true and imputed values\n",
        "print(\"True Value:\", true_value)\n",
        "print(\"Imputed Value:\", features_knn_imputed[0, 0])\n"
      ],
      "metadata": {
        "id": "ectfKZnRSLSO",
        "outputId": "8ede101d-c211-4d6b-bab5-0aa7c27bb970",
        "colab": {
          "base_uri": "https://localhost:8080/"
        }
      },
      "execution_count": null,
      "outputs": [
        {
          "output_type": "stream",
          "name": "stdout",
          "text": [
            "True Value: 0.8730186113995938\n",
            "Imputed Value: 1.0955332713113226\n"
          ]
        }
      ]
    },
    {
      "cell_type": "markdown",
      "source": [
        "## إنشاء مصفوفة بيانات تجريبية\n",
        "\n",
        "يتم إنشاء مصفوفة بيانات تجريبية تحتوي على 1000 عينة وميزتين (عشوائيتين) باستخدام `make_blobs`.\n",
        "\n",
        "## تقييس البيانات\n",
        "\n",
        "يتم تقييس البيانات بحيث تكون ميزات البيانات لها متوسط 0 وانحراف معياري 1 باستخدام `StandardScaler`.\n",
        "\n",
        "## إدخال قيمة مفقودة\n",
        "\n",
        "يتم استبدال القيمة الأولى في أول ميزة من البيانات القياسية (`standardized_features`) بقيمة مفقودة (`np.nan`).\n",
        "\n",
        "## توقع القيم المفقودة\n",
        "\n",
        "يتم استخدام `KNN` من `fancyimpute` لتوقع القيم المفقودة بناءً على القيم الأخرى في البيانات. يتم تحديد عدد الجيران (`k=5`) لاستخدامه في خوارزمية KNN.\n",
        "\n",
        "## مقارنة القيم الحقيقية بالقيم المكملة\n",
        "\n",
        "يتم طباعة القيمة الأصلية التي تم استبدالها (`true_value`) والقيمة المكملة التي تم التنبؤ بها بواسطة خوارزمية KNN (`features_knn_imputed[0, 0]`).\n",
        "\n",
        "## ملخص النتائج\n",
        "\n",
        "- **True Value:** القيمة الأصلية التي تم إدخالها كقيمة مفقودة.\n",
        "- **Imputed Value:** القيمة التي تم التنبؤ بها بواسطة نموذج KNN لتكملة القيمة المفقودة.\n"
      ],
      "metadata": {
        "id": "Tk-eq8vDlhgp"
      }
    },
    {
      "cell_type": "markdown",
      "source": [
        "Alternatively, we can use scikit-learn’s Imputer module to fill in missing values with\n",
        "the feature’s mean, median, or most frequent value. However, we will typically get worse results than KNN."
      ],
      "metadata": {
        "id": "fkF8YHa0Sy6K"
      }
    },
    {
      "cell_type": "code",
      "source": [
        "# Load library\n",
        "from sklearn.impute import SimpleImputer\n",
        "import numpy as np\n",
        "\n",
        "# Example data with missing values\n",
        "features = np.array([[1, 2, np.nan], [3, np.nan, 4], [5, 6, 7]])\n",
        "true_value = features[0, 0]\n",
        "\n",
        "# Create imputer\n",
        "mean_imputer = SimpleImputer(strategy=\"mean\")\n",
        "\n",
        "# Impute values\n",
        "features_mean_imputed = mean_imputer.fit_transform(features)\n",
        "\n",
        "# Compare true and imputed values\n",
        "print(\"True Value:\", true_value)\n",
        "print(\"Imputed Value:\", features_mean_imputed[0, 0])\n"
      ],
      "metadata": {
        "id": "NaTm35tfSTQt",
        "outputId": "25251207-63eb-4fb6-cca3-a83480179bad",
        "colab": {
          "base_uri": "https://localhost:8080/"
        }
      },
      "execution_count": null,
      "outputs": [
        {
          "output_type": "stream",
          "name": "stdout",
          "text": [
            "True Value: 1.0\n",
            "Imputed Value: 1.0\n"
          ]
        }
      ]
    },
    {
      "cell_type": "markdown",
      "source": [
        "## إنشاء بيانات تجريبية تحتوي على قيم مفقودة\n",
        "\n",
        "- **features** هي مصفوفة تحتوي على بعض القيم المفقودة (`np.nan`).\n",
        "\n",
        "## تحديد القيمة الأصلية\n",
        "\n",
        "- **true_value** هي القيمة الأصلية في `features` التي تم إدخالها كقيمة مفقودة.\n",
        "\n",
        "## إنشاء كائن SimpleImputer\n",
        "\n",
        "- يتم استخدام `SimpleImputer` مع استراتيجية `mean`، مما يعني أن القيم المفقودة سيتم ملؤها بالقيمة المتوسطة لكل عمود.\n",
        "\n",
        "## تطبيق الإكمال\n",
        "\n",
        "- `fit_transform(features)` يُطبق الإكمال على البيانات ويعيد المصفوفة المكملة.\n",
        "\n",
        "## مقارنة القيم\n",
        "\n",
        "- يتم طباعة **true_value** (القيمة الأصلية التي كانت مفقودة) و **features_mean_imputed[0, 0]** (القيمة التي تم استبدالها بواسطة `SimpleImputer`).\n",
        "\n",
        "## تفسير النتائج\n",
        "\n",
        "- **True Value:** القيمة الأصلية التي كانت مفقودة في البيانات قبل تطبيق الإكمال.\n",
        "- **Imputed Value:** القيمة التي تم استبدال القيمة المفقودة بها باستخدام متوسط القيم الأخرى في نفس العمود.\n"
      ],
      "metadata": {
        "id": "x-7WdKuhl8gs"
      }
    },
    {
      "cell_type": "markdown",
      "source": [
        "**Categorical Data**\n",
        "\n",
        "Imputing Missing Class Values"
      ],
      "metadata": {
        "id": "7rGW3BLCbfbl"
      }
    },
    {
      "cell_type": "markdown",
      "source": [
        "The ideal solution is to train a machine learning classifier algorithm to predict themissing values, commonly a k-nearest neighbors (KNN) classifier."
      ],
      "metadata": {
        "id": "6YjUV9slcLED"
      }
    },
    {
      "cell_type": "code",
      "source": [
        "# Load libraries\n",
        "import numpy as np\n",
        "from sklearn.neighbors import KNeighborsClassifier\n",
        "\n",
        "# Create feature matrix with categorical feature\n",
        "X = np.array([[0, 2.10, 1.45],\n",
        " [1, 1.18, 1.33],\n",
        " [0, 1.22, 1.27],\n",
        " [1, -0.21, -1.19]])\n",
        "\n",
        "\n",
        "# Create feature matrix with missing values in the categorical feature\n",
        "X_with_nan = np.array([[np.nan, 0.87, 1.31],\n",
        " [np.nan, -0.67, -0.22]])\n",
        "\n",
        "\n",
        "# Train KNN learner\n",
        "clf = KNeighborsClassifier(3, weights='distance')\n",
        "trained_model = clf.fit(X[:,1:], X[:,0])\n",
        "\n",
        "# Predict missing values' class\n",
        "imputed_values = trained_model.predict(X_with_nan[:,1:])\n",
        "\n",
        "\n",
        "# Join column of predicted class with their other features\n",
        "X_with_imputed = np.hstack((imputed_values.reshape(-1,1), X_with_nan[:,1:]))\n",
        "\n",
        "# Join two feature matrices\n",
        "np.vstack((X_with_imputed, X))"
      ],
      "metadata": {
        "id": "o7HFv0mYcd_4",
        "outputId": "78f9a583-1556-40da-ba5a-c72e3e726505",
        "colab": {
          "base_uri": "https://localhost:8080/"
        }
      },
      "execution_count": null,
      "outputs": [
        {
          "output_type": "execute_result",
          "data": {
            "text/plain": [
              "array([[ 0.  ,  0.87,  1.31],\n",
              "       [ 1.  , -0.67, -0.22],\n",
              "       [ 0.  ,  2.1 ,  1.45],\n",
              "       [ 1.  ,  1.18,  1.33],\n",
              "       [ 0.  ,  1.22,  1.27],\n",
              "       [ 1.  , -0.21, -1.19]])"
            ]
          },
          "metadata": {},
          "execution_count": 11
        }
      ]
    },
    {
      "cell_type": "markdown",
      "source": [
        "**إنشاء البيانات**\n",
        "\n",
        "- **X:** هي مصفوفة تحتوي على ميزات عددية مع ميزة تصنيفية. في هذا المثال، العمود الأول يمثل الفئة المستهدفة (التصنيف)، والعمودان التاليان هما ميزات عددية.\n",
        "- **X_with_nan:** هي مصفوفة تحتوي على قيم مفقودة في العمود الأول (العمود التصنيفي).\n",
        "\n",
        "**تدريب نموذج KNN**\n",
        "\n",
        "- يتم استخدام `KNeighborsClassifier` من `sklearn` لتدريب نموذج باستخدام الميزات العددية `X[:,1:]` والميزة التصنيفية `X[:,0]`.\n",
        "\n",
        "**توقع القيم المفقودة**\n",
        "\n",
        "- بعد تدريب النموذج، يتم استخدام `predict` للتنبؤ بالقيم المفقودة في `X_with_nan` بناءً على الميزات العددية المتاحة.\n",
        "\n",
        "**دمج القيم المتوقعة**\n",
        "\n",
        "- يتم دمج القيم المتوقعة مع الميزات الأخرى في `X_with_nan` لإنشاء مصفوفة جديدة `X_with_imputed` تحتوي على القيم المكملة.\n",
        "\n",
        "**دمج مصفوفتين**\n",
        "\n",
        "- يتم دمج المصفوفات التي تحتوي على القيم المكملة والبيانات الأصلية في مصفوفة واحدة.\n",
        "\n",
        "**تفسير النتائج**\n",
        "\n",
        "- **القيم التصنيفية (Categorical Data) كأرقام:**\n",
        "  - في البيانات التصنيفية، يتم ترميز الفئات إلى أرقام لتتمكن الخوارزميات العددية من معالجتها. في هذه الحالة، الفئة قد تكون رقمًا مثل 0 أو 1، وهذا هو السبب في أن كل القيم في النتيجة هي أرقام.\n",
        "\n",
        "- **أسباب ظهور الأرقام:**\n",
        "  - النموذج يقوم بتوقع الفئات بناءً على الخصائص العددية المتاحة. عند تدريب النموذج، يتم تحويل الفئة (التصنيف) إلى أرقام، لذلك عند التنبؤ، ستظهر القيم كأرقام (مثل 0 أو 1) بدلاً من أسماء الفئات.\n",
        "\n",
        "- **مثال توضيحي:**\n",
        "  - إذا كان لديك فئات مثل \"A\" و \"B\"، يتم تحويل \"A\" إلى 0 و \"B\" إلى 1. عندما يتنبأ النموذج بالقيم المفقودة، ستحصل على أرقام 0 أو 1.\n"
      ],
      "metadata": {
        "id": "_Xq2YKj0h7n_"
      }
    },
    {
      "cell_type": "markdown",
      "source": [
        "An alternative solution is to fill in missing values with the feature’s most frequent value"
      ],
      "metadata": {
        "id": "APC1YRoVc8UY"
      }
    },
    {
      "cell_type": "code",
      "source": [
        "from sklearn.impute import SimpleImputer\n",
        "import numpy as np\n",
        "\n",
        "# Join the two feature matrices\n",
        "X_complete = np.vstack((X_with_nan, X))\n",
        "\n",
        "imputer = SimpleImputer(strategy='most_frequent')\n",
        "\n",
        "X_imputed = imputer.fit_transform(X_complete)\n",
        "\n",
        "print(\"Imputed Data:\\n\", X_imputed)\n"
      ],
      "metadata": {
        "id": "tkCX7FtMc7JP",
        "outputId": "58848628-01f3-4a7b-f847-8525673cff0b",
        "colab": {
          "base_uri": "https://localhost:8080/"
        }
      },
      "execution_count": null,
      "outputs": [
        {
          "output_type": "stream",
          "name": "stdout",
          "text": [
            "Imputed Data:\n",
            " [[ 0.    0.87  1.31]\n",
            " [ 0.   -0.67 -0.22]\n",
            " [ 0.    2.1   1.45]\n",
            " [ 1.    1.18  1.33]\n",
            " [ 0.    1.22  1.27]\n",
            " [ 1.   -0.21 -1.19]]\n"
          ]
        }
      ]
    },
    {
      "cell_type": "markdown",
      "source": [
        "**إنشاء البيانات**\n",
        "\n",
        "- **X** و **X_with_nan** هما مصفوفات البيانات الأصلية والمصفوفة التي تحتوي على القيم المفقودة على التوالي.\n",
        "\n",
        "**دمج المصفوفات**\n",
        "\n",
        "- **X_complete** هي مصفوفة تحتوي على بيانات مدمجة من **X_with_nan** و **X**. هذا يمكّن `SimpleImputer` من التعامل مع جميع البيانات في خطوة واحدة.\n",
        "\n",
        "**إنشاء SimpleImputer**\n",
        "\n",
        "- يتم إنشاء كائن `SimpleImputer` مع استراتيجية `most_frequent`. تعني هذه الاستراتيجية أن القيم المفقودة ستُملأ بالقيمة الأكثر تكرارًا في كل عمود.\n",
        "\n",
        "**تطبيق الإكمال**\n",
        "\n",
        "- `fit_transform(X_complete)` يقوم بتطبيق الإكمال على البيانات ويعيد المصفوفة المكملة.\n",
        "\n",
        "**طباعة البيانات المكملة**\n",
        "\n",
        "- يتم طباعة **X_imputed** لعرض النتيجة النهائية.\n",
        "\n",
        "**تفسير النتائج**\n",
        "\n",
        "- **الإكمال بالقيمة الأكثر تكرارًا:**\n",
        "  - لكل عمود في **X_complete**، سيقوم `SimpleImputer` بحساب القيمة الأكثر تكرارًا في ذلك العمود ويستخدمها لملء القيم المفقودة.\n",
        "\n",
        "- **نتائج الإكمال:**\n",
        "  - سيتم استبدال القيم المفقودة في **X_with_nan** بالقيم الأكثر تكرارًا لكل عمود.\n",
        "  - مثلاً، إذا كان العمود الأول يحتوي على القيم `[0, 1, 0, 1]`، فإن القيمة الأكثر تكرارًا هي `0`، لذا سيتم استخدام `0` لملء القيم المفقودة في ذلك العمود.\n"
      ],
      "metadata": {
        "id": "lACfbOyLi057"
      }
    },
    {
      "cell_type": "markdown",
      "source": [],
      "metadata": {
        "id": "vQckwtjTSbli"
      }
    }
  ],
  "metadata": {
    "colab": {
      "toc_visible": true,
      "provenance": []
    },
    "kernelspec": {
      "display_name": "Python 3",
      "name": "python3"
    }
  },
  "nbformat": 4,
  "nbformat_minor": 0
}